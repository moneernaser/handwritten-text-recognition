{
 "nbformat": 4,
 "nbformat_minor": 0,
 "metadata": {
  "colab": {
   "name": "tutorial.ipynb",
   "provenance": [],
   "collapsed_sections": []
  },
  "file_extension": ".py",
  "interpreter": {
   "hash": "94a672d519813fc15fbe014d7e7d3518c25d2484f666bef03e53a7b4e7c970ca"
  },
  "kernelspec": {
   "display_name": "Python 3.7.6 64-bit ('.venv': venv)",
   "name": "python3"
  },
  "language_info": {
   "name": "python",
   "version": ""
  },
  "mimetype": "text/x-python",
  "name": "python",
  "npconvert_exporter": "python",
  "pygments_lexer": "ipython3",
  "version": 3
 },
 "cells": [
  {
   "cell_type": "markdown",
   "metadata": {
    "id": "view-in-github"
   },
   "source": [
    "<a href=\"https://colab.research.google.com/github/arthurflor23/handwritten-text-recognition/blob/master/src/tutorial.ipynb\" target=\"_parent\"><img src=\"https://colab.research.google.com/assets/colab-badge.svg\" alt=\"Open In Colab\"/></a>"
   ]
  },
  {
   "cell_type": "markdown",
   "metadata": {
    "id": "gP-v0E_S-mQP"
   },
   "source": [
    "<img src=\"https://github.com/arthurflor23/handwritten-text-recognition/blob/master/doc/image/header.png?raw=true\" />\n",
    "\n",
    "# Handwritten Text Recognition using TensorFlow 2.x\n",
    "\n",
    "This tutorial shows how you can use the project [Handwritten Text Recognition](https://github.com/arthurflor23/handwritten-text-recognition) in your Google Colab.\n",
    "\n"
   ]
  },
  {
   "cell_type": "markdown",
   "metadata": {
    "id": "oMty1YwuWHpN"
   },
   "source": [
    "## 1 Localhost Environment\n",
    "\n",
    "We'll make sure you have the project in your Google Drive with the datasets in HDF5. If you already have structured files in the cloud, skip this step."
   ]
  },
  {
   "cell_type": "markdown",
   "metadata": {
    "id": "39blvPTPQJpt"
   },
   "source": [
    "### 1.1 Datasets\n",
    "\n",
    "The datasets that you can use:\n",
    "\n",
    "a. [Bentham](http://www.transcriptorium.eu/~tsdata/)\n",
    "\n",
    "b. [IAM](http://www.fki.inf.unibe.ch/databases/iam-handwriting-database)\n",
    "\n",
    "c. [Rimes](http://www.a2ialab.com/doku.php?id=rimes_database:start)\n",
    "\n",
    "d. [Saint Gall](https://fki.tic.heia-fr.ch/databases/saint-gall-database)\n",
    "\n",
    "e. [Washington](https://fki.tic.heia-fr.ch/databases/washington-database)"
   ]
  },
  {
   "cell_type": "markdown",
   "metadata": {
    "id": "QVBGMLifWQwl"
   },
   "source": [
    "### 1.2 Raw folder\n",
    "\n",
    "On localhost, download the code project from GitHub and extract the chosen dataset (or all if you prefer) in the **raw** folder. Don't change anything of the structure of the dataset, since the scripts were made from the **original structure** of them. Your project directory will be like this:\n",
    "\n",
    "```\n",
    ".\n",
    "├── raw\n",
    "│   ├── bentham\n",
    "│   │   ├── BenthamDatasetR0-GT\n",
    "│   │   └── BenthamDatasetR0-Images\n",
    "│   ├── iam\n",
    "│   │   ├── ascii\n",
    "│   │   ├── forms\n",
    "│   │   ├── largeWriterIndependentTextLineRecognitionTask\n",
    "│   │   ├── lines\n",
    "│   │   └── xml\n",
    "│   ├── rimes\n",
    "│   │   ├── eval_2011\n",
    "│   │   ├── eval_2011_annotated.xml\n",
    "│   │   ├── training_2011\n",
    "│   │   └── training_2011.xml\n",
    "│   ├── saintgall\n",
    "│   │   ├── data\n",
    "│   │   ├── ground_truth\n",
    "│   │   ├── README.txt\n",
    "│   │   └── sets\n",
    "│   └── washington\n",
    "│       ├── data\n",
    "│       ├── ground_truth\n",
    "│       ├── README.txt\n",
    "│       └── sets\n",
    "└── src\n",
    "    ├── data\n",
    "    │   ├── evaluation.py\n",
    "    │   ├── generator.py\n",
    "    │   ├── preproc.py\n",
    "    │   ├── reader.py\n",
    "    │   ├── similar_error_analysis.py\n",
    "    ├── main.py\n",
    "    ├── network\n",
    "    │   ├── architecture.py\n",
    "    │   ├── layers.py\n",
    "    │   ├── model.py\n",
    "    └── tutorial.ipynb\n",
    "\n",
    "```\n",
    "\n",
    "After that, create virtual environment and install the dependencies with python 3 and pip:\n",
    "\n",
    "> ```python -m venv .venv && source .venv/bin/activate```\n",
    "\n",
    "> ```pip install -r requirements.txt```"
   ]
  },
  {
   "cell_type": "markdown",
   "metadata": {
    "id": "WyLRbAwsWSYA"
   },
   "source": [
    "### 1.3 HDF5 files\n",
    "\n",
    "Now, you'll run the *transform* function from **main.py**. For this, execute on **src** folder:\n",
    "\n",
    "> ```python main.py --source=<DATASET_NAME> --transform```\n",
    "\n",
    "Your data will be preprocess and encode, creating and saving in the **data** folder. Now your project directory will be like this:\n",
    "\n",
    "\n",
    "```\n",
    ".\n",
    "├── data\n",
    "│   ├── bentham.hdf5\n",
    "│   ├── iam.hdf5\n",
    "│   ├── rimes.hdf5\n",
    "│   ├── saintgall.hdf5\n",
    "│   └── washington.hdf5\n",
    "├── raw\n",
    "│   ├── bentham\n",
    "│   │   ├── BenthamDatasetR0-GT\n",
    "│   │   └── BenthamDatasetR0-Images\n",
    "│   ├── iam\n",
    "│   │   ├── ascii\n",
    "│   │   ├── forms\n",
    "│   │   ├── largeWriterIndependentTextLineRecognitionTask\n",
    "│   │   ├── lines\n",
    "│   │   └── xml\n",
    "│   ├── rimes\n",
    "│   │   ├── eval_2011\n",
    "│   │   ├── eval_2011_annotated.xml\n",
    "│   │   ├── training_2011\n",
    "│   │   └── training_2011.xml\n",
    "│   ├── saintgall\n",
    "│   │   ├── data\n",
    "│   │   ├── ground_truth\n",
    "│   │   ├── README.txt\n",
    "│   │   └── sets\n",
    "│   └── washington\n",
    "│       ├── data\n",
    "│       ├── ground_truth\n",
    "│       ├── README.txt\n",
    "│       └── sets\n",
    "└── src\n",
    "    ├── data\n",
    "    │   ├── evaluation.py\n",
    "    │   ├── generator.py\n",
    "    │   ├── preproc.py\n",
    "    │   ├── reader.py\n",
    "    │   ├── similar_error_analysis.py\n",
    "    ├── main.py\n",
    "    ├── network\n",
    "    │   ├── architecture.py\n",
    "    │   ├── layers.py\n",
    "    │   ├── model.py\n",
    "    └── tutorial.ipynb\n",
    "\n",
    "```\n",
    "\n",
    "Then upload the **data** and **src** folders in the same directory in your Google Drive."
   ]
  },
  {
   "cell_type": "markdown",
   "metadata": {
    "id": "jydsAcWgWVth"
   },
   "source": [
    "## 2 Google Drive Environment\n"
   ]
  },
  {
   "cell_type": "markdown",
   "metadata": {
    "id": "wk3e7YJiXzSl"
   },
   "source": [
    "### 2.1 TensorFlow 2.x"
   ]
  },
  {
   "cell_type": "markdown",
   "metadata": {
    "id": "Z7twXyNGXtbJ"
   },
   "source": [
    "Make sure the jupyter notebook is using GPU mode."
   ]
  },
  {
   "cell_type": "code",
   "metadata": {
    "colab": {
     "base_uri": "https://localhost:8080/"
    },
    "id": "mHw4tODULT1Z",
    "executionInfo": {
     "status": "ok",
     "timestamp": 1633343096940,
     "user_tz": -180,
     "elapsed": 266,
     "user": {
      "displayName": "Munir Nasir",
      "photoUrl": "https://lh3.googleusercontent.com/a-/AOh14Gjj-goum-26nMPPeGVAPC8mbfheSvoy_Y3sPz_g=s64",
      "userId": "17948532014209181939"
     }
    },
    "outputId": "5b271613-01ee-45bc-edab-c7bdfb541f6a"
   },
   "source": [
    "!nvidia-smi"
   ],
   "execution_count": null,
   "outputs": [
    {
     "output_type": "stream",
     "name": "stdout",
     "text": [
      "NVIDIA-SMI has failed because it couldn't communicate with the NVIDIA driver. Make sure that the latest NVIDIA driver is installed and running.\n",
      "\n"
     ]
    }
   ]
  },
  {
   "cell_type": "code",
   "metadata": {
    "colab": {
     "base_uri": "https://localhost:8080/",
     "height": 236
    },
    "id": "FMg-B5PH9h3r",
    "executionInfo": {
     "status": "error",
     "timestamp": 1633342150117,
     "user_tz": -180,
     "elapsed": 2373,
     "user": {
      "displayName": "Munir Nasir",
      "photoUrl": "https://lh3.googleusercontent.com/a-/AOh14Gjj-goum-26nMPPeGVAPC8mbfheSvoy_Y3sPz_g=s64",
      "userId": "17948532014209181939"
     }
    },
    "outputId": "cd1e259a-9231-4ea5-bb35-d24159c9a1d5"
   },
   "source": [
    "%tensorflow_version 2.x\n",
    "import tensorflow as tf\n",
    "\n",
    "device_name = tf.test.gpu_device_name()\n",
    "\n",
    "if device_name != \"/device:GPU:0\":\n",
    "    raise SystemError(\"GPU device not found\")\n",
    "\n",
    "print(\"Found GPU at: {}\".format(device_name))"
   ],
   "execution_count": null,
   "outputs": [
    {
     "output_type": "error",
     "ename": "SystemError",
     "evalue": "ignored",
     "traceback": [
      "\u001B[0;31m---------------------------------------------------------------------------\u001B[0m",
      "\u001B[0;31mSystemError\u001B[0m                               Traceback (most recent call last)",
      "\u001B[0;32m<ipython-input-1-4c50ca7a6e10>\u001B[0m in \u001B[0;36m<module>\u001B[0;34m()\u001B[0m\n\u001B[1;32m      5\u001B[0m \u001B[0;34m\u001B[0m\u001B[0m\n\u001B[1;32m      6\u001B[0m \u001B[0;32mif\u001B[0m \u001B[0mdevice_name\u001B[0m \u001B[0;34m!=\u001B[0m \u001B[0;34m\"/device:GPU:0\"\u001B[0m\u001B[0;34m:\u001B[0m\u001B[0;34m\u001B[0m\u001B[0;34m\u001B[0m\u001B[0m\n\u001B[0;32m----> 7\u001B[0;31m     \u001B[0;32mraise\u001B[0m \u001B[0mSystemError\u001B[0m\u001B[0;34m(\u001B[0m\u001B[0;34m\"GPU device not found\"\u001B[0m\u001B[0;34m)\u001B[0m\u001B[0;34m\u001B[0m\u001B[0;34m\u001B[0m\u001B[0m\n\u001B[0m\u001B[1;32m      8\u001B[0m \u001B[0;34m\u001B[0m\u001B[0m\n\u001B[1;32m      9\u001B[0m \u001B[0mprint\u001B[0m\u001B[0;34m(\u001B[0m\u001B[0;34m\"Found GPU at: {}\"\u001B[0m\u001B[0;34m.\u001B[0m\u001B[0mformat\u001B[0m\u001B[0;34m(\u001B[0m\u001B[0mdevice_name\u001B[0m\u001B[0;34m)\u001B[0m\u001B[0;34m)\u001B[0m\u001B[0;34m\u001B[0m\u001B[0;34m\u001B[0m\u001B[0m\n",
      "\u001B[0;31mSystemError\u001B[0m: GPU device not found"
     ]
    }
   ]
  },
  {
   "cell_type": "markdown",
   "metadata": {
    "id": "FyMv5wyDXxqc"
   },
   "source": [
    "### 2.2 Google Drive"
   ]
  },
  {
   "cell_type": "code",
   "metadata": {
    "id": "rU6uV8gD5ZhJ"
   },
   "source": [
    "%load_ext tensorboard"
   ],
   "execution_count": null,
   "outputs": []
  },
  {
   "cell_type": "markdown",
   "metadata": {
    "id": "P5gj6qwoX9W3"
   },
   "source": [
    "Mount your Google Drive partition.\n",
    "\n",
    "**Note:** *\\\"Colab Notebooks/handwritten-text-recognition/src/\\\"* was the directory where you put the project folders, specifically the **src** folder."
   ]
  },
  {
   "cell_type": "code",
   "metadata": {
    "colab": {
     "base_uri": "https://localhost:8080/"
    },
    "id": "ACQn1iBF9k9O",
    "executionInfo": {
     "status": "ok",
     "timestamp": 1633343150735,
     "user_tz": -180,
     "elapsed": 23179,
     "user": {
      "displayName": "Munir Nasir",
      "photoUrl": "https://lh3.googleusercontent.com/a-/AOh14Gjj-goum-26nMPPeGVAPC8mbfheSvoy_Y3sPz_g=s64",
      "userId": "17948532014209181939"
     }
    },
    "outputId": "7b700341-d21f-4d72-d8dc-d1371e538d8f"
   },
   "source": [],
   "execution_count": null,
   "outputs": [
    {
     "output_type": "stream",
     "name": "stdout",
     "text": [
      "Mounted at ./gdrive\n",
      "/content/gdrive/My Drive/colabs/src\n",
      "total 13770\n",
      "drwx------ 2 root root     4096 Jul 12 06:40 data\n",
      "-rw------- 1 root root     9074 Jul 10 21:01 main.py\n",
      "drwx------ 2 root root     4096 Jul 12 06:40 network\n",
      "-rw------- 1 root root   137162 Oct  4 10:25 tutorial.ipynb\n",
      "-rw------- 1 root root 13945786 Sep 26 19:40 tutorial_latin.ipynb\n"
     ]
    }
   ]
  },
  {
   "cell_type": "markdown",
   "metadata": {
    "id": "YwogUA8RZAyp"
   },
   "source": [
    "After mount, you can see the list os files in the project folder."
   ]
  },
  {
   "cell_type": "markdown",
   "metadata": {
    "id": "-fj7fSngY1IX"
   },
   "source": [
    "## 3 Set Python Classes"
   ]
  },
  {
   "cell_type": "markdown",
   "metadata": {
    "id": "p6Q4cOlWhNl3"
   },
   "source": [
    "### 3.1 Environment"
   ]
  },
  {
   "cell_type": "code",
   "metadata": {
    "id": "wvqL2Eq5ZUc7"
   },
   "source": [
    "First, let's define our environment variables.\n",
    "\n",
    "Set the main configuration parameters, like input size, batch size, number of epochs and list of characters. This make compatible with **main.py** and jupyter notebook:\n",
    "\n",
    "* **dataset**: \"bentham\", \"iam\", \"rimes\", \"saintgall\", \"washington\"\n",
    "\n",
    "* **arch**: network to run: \"bluche\", \"puigcerver\", \"flor\"\n",
    "\n",
    "* **epochs**: number of epochs\n",
    "\n",
    "* **batch_size**: number size of the batch"
   ],
   "execution_count": null,
   "outputs": []
  },
  {
   "cell_type": "code",
   "metadata": {
    "colab": {
     "base_uri": "https://localhost:8080/"
    },
    "id": "_Qpr3drnGMWS",
    "executionInfo": {
     "status": "ok",
     "timestamp": 1633343156649,
     "user_tz": -180,
     "elapsed": 679,
     "user": {
      "displayName": "Munir Nasir",
      "photoUrl": "https://lh3.googleusercontent.com/a-/AOh14Gjj-goum-26nMPPeGVAPC8mbfheSvoy_Y3sPz_g=s64",
      "userId": "17948532014209181939"
     }
    },
    "outputId": "0d58f6cb-2357-4e00-908d-f6e38203480e"
   },
   "source": [
    "import os\n",
    "import datetime\n",
    "import string\n",
    "\n",
    "# define parameters\n",
    "source = \"khatt\"\n",
    "arch = \"yazeed\"\n",
    "epochs = 350\n",
    "batch_size = 16\n",
    "\n",
    "# define paths\n",
    "source_path = os.path.join(\"..\", \"data\", f\"{source}.hdf5\")\n",
    "output_path = os.path.join(\"..\", \"output\", source, arch)\n",
    "target_path = os.path.join(output_path, \"checkpoint_weights_2.hdf5\")\n",
    "os.makedirs(output_path, exist_ok=True)\n",
    "\n",
    "# define input size, number max of chars per line and list of valid chars\n",
    "input_size = (1024, 64, 1)\n",
    "max_text_length = 128\n",
    "charset_base = 'ءآأإابتةثجحخدذرزسشصضطظعغفقكلمنؤهويىئ0123456789@:,.?!\"()//\\=-_#%$^&*+ '\n",
    "\n",
    "print(\"source:\", source_path)\n",
    "print(\"output\", output_path)\n",
    "print(\"target\", target_path)\n",
    "print(\"charset:\", charset_base)"
   ],
   "execution_count": null,
   "outputs": [
    {
     "output_type": "stream",
     "name": "stdout",
     "text": [
      "source: ../data/khatt.hdf5\n",
      "output ../output/khatt/yazeed\n",
      "target ../output/khatt/yazeed/checkpoint_weights_2.hdf5\n",
      "charset: ءآأإابتةثجحخدذرزسشصضطظعغفقكلمنؤهويىئ0123456789@:,.?!\"()//\\=-_#%$^&*+ \n"
     ]
    }
   ]
  },
  {
   "cell_type": "markdown",
   "metadata": {
    "id": "BFextshOhTKr"
   },
   "source": [
    "### 3.2 DataGenerator Class"
   ]
  },
  {
   "cell_type": "markdown",
   "metadata": {
    "id": "KfZ1mfvsanu1"
   },
   "source": [
    "The second class is **DataGenerator()**, responsible for:\n",
    "\n",
    "* Load the dataset partitions (train, valid, test);\n",
    "\n",
    "* Manager batchs for train/validation/test process."
   ]
  },
  {
   "cell_type": "code",
   "metadata": {
    "colab": {
     "base_uri": "https://localhost:8080/"
    },
    "id": "8k9vpNzMIAi2",
    "executionInfo": {
     "status": "ok",
     "timestamp": 1633343169427,
     "user_tz": -180,
     "elapsed": 8772,
     "user": {
      "displayName": "Munir Nasir",
      "photoUrl": "https://lh3.googleusercontent.com/a-/AOh14Gjj-goum-26nMPPeGVAPC8mbfheSvoy_Y3sPz_g=s64",
      "userId": "17948532014209181939"
     }
    },
    "outputId": "2b6de34d-edc9-4b6f-f967-3e05e36ed7d0"
   },
   "source": [
    "from data.generator import DataGenerator\n",
    "\n",
    "dtgen = DataGenerator(source=source_path,\n",
    "                      batch_size=batch_size,\n",
    "                      charset=charset_base,\n",
    "                      max_text_length=max_text_length)\n",
    "\n",
    "print(f\"Train images: {dtgen.size['train']}\")\n",
    "print(f\"Validation images: {dtgen.size['valid']}\")\n",
    "print(f\"Test images: {dtgen.size['test']}\")"
   ],
   "execution_count": null,
   "outputs": [
    {
     "output_type": "stream",
     "name": "stdout",
     "text": [
      "Train images: 9454\n",
      "Validation images: 1892\n",
      "Test images: 1995\n"
     ]
    }
   ]
  },
  {
   "cell_type": "code",
   "metadata": {
    "colab": {
     "base_uri": "https://localhost:8080/"
    },
    "id": "O-NfTwa_6IXo",
    "executionInfo": {
     "elapsed": 269,
     "status": "ok",
     "timestamp": 1626314744220,
     "user": {
      "displayName": "Munir Nasir",
      "photoUrl": "https://lh3.googleusercontent.com/a-/AOh14Gjj-goum-26nMPPeGVAPC8mbfheSvoy_Y3sPz_g=s64",
      "userId": "17948532014209181939"
     },
     "user_tz": -180
    },
    "outputId": "a92ae0bc-28a9-4553-b5a7-8af4d889eb36"
   },
   "source": [
    "logdir=output_path\n",
    "tensorboard_callback"
   ],
   "execution_count": null,
   "outputs": [
    {
     "data": {
      "text/plain": [
       "<tensorflow.python.keras.callbacks.TensorBoard at 0x7fb706a9c810>"
      ]
     },
     "execution_count": 10,
     "metadata": {
      "tags": []
     },
     "output_type": "execute_result"
    }
   ]
  },
  {
   "cell_type": "markdown",
   "metadata": {
    "id": "-OdgNLK0hYAA"
   },
   "source": [
    "### 3.3 HTRModel Class"
   ]
  },
  {
   "cell_type": "markdown",
   "metadata": {
    "id": "jHktk8AFcnKy"
   },
   "source": [
    "The third class is **HTRModel()**, was developed to be easy to use and to abstract the complicated flow of a HTR system. It's responsible for:\n",
    "\n",
    "* Create model with Handwritten Text Recognition flow, in which calculate the loss function by CTC and decode output to calculate the HTR metrics (CER, WER and SER);\n",
    "\n",
    "* Save and load model;\n",
    "\n",
    "* Load weights in the models (train/infer);\n",
    "\n",
    "* Make Train/Predict process using *generator*.\n",
    "\n",
    "To make a dynamic HTRModel, its parameters are the *architecture*, *input_size* and *vocab_size*."
   ]
  },
  {
   "cell_type": "code",
   "metadata": {
    "colab": {
     "base_uri": "https://localhost:8080/"
    },
    "id": "nV0GreStISTR",
    "executionInfo": {
     "status": "ok",
     "timestamp": 1633343182358,
     "user_tz": -180,
     "elapsed": 8432,
     "user": {
      "displayName": "Munir Nasir",
      "photoUrl": "https://lh3.googleusercontent.com/a-/AOh14Gjj-goum-26nMPPeGVAPC8mbfheSvoy_Y3sPz_g=s64",
      "userId": "17948532014209181939"
     }
    },
    "outputId": "626739a1-bd5b-4d0e-b18a-f8cab41d879e"
   },
   "source": [
    "from network.model import HTRModel, NNModel\n",
    "\n",
    "# create and compile HTRModel\n",
    "model = NNModel(architecture=arch,\n",
    "                         input_size=input_size,\n",
    "                         vocab_size=dtgen.tokenizer.vocab_size)\n",
    "\n",
    "\n",
    "\n",
    "model.compile(learning_rate=0.001)\n",
    "model.summary(output_path, \"summary.txt\")\n",
    "\n",
    "# get default callbacks and load checkpoint weights file (HDF5) if exists\n",
    "model.load_checkpoint(target=target_path)\n",
    "\n",
    "callbacks = model.get_callbacks(logdir=output_path, checkpoint=target_path, verbose=1)\n",
    "# callbacks.append(tensorboard_callback)"
   ],
   "execution_count": null,
   "outputs": [
    {
     "output_type": "stream",
     "name": "stdout",
     "text": [
      "Model: \"model\"\n",
      "_________________________________________________________________\n",
      "Layer (type)                 Output Shape              Param #   \n",
      "=================================================================\n",
      "input (InputLayer)           [(None, 1024, 64, 1)]     0         \n",
      "_________________________________________________________________\n",
      "conv2d (Conv2D)              (None, 512, 32, 16)       160       \n",
      "_________________________________________________________________\n",
      "p_re_lu (PReLU)              (None, 512, 32, 16)       16        \n",
      "_________________________________________________________________\n",
      "batch_normalization (BatchNo (None, 512, 32, 16)       112       \n",
      "_________________________________________________________________\n",
      "full_gated_conv2d (FullGated (None, 512, 32, 16)       4640      \n",
      "_________________________________________________________________\n",
      "conv2d_1 (Conv2D)            (None, 512, 32, 32)       4640      \n",
      "_________________________________________________________________\n",
      "p_re_lu_1 (PReLU)            (None, 512, 32, 32)       32        \n",
      "_________________________________________________________________\n",
      "batch_normalization_1 (Batch (None, 512, 32, 32)       224       \n",
      "_________________________________________________________________\n",
      "full_gated_conv2d_1 (FullGat (None, 512, 32, 32)       18496     \n",
      "_________________________________________________________________\n",
      "conv2d_2 (Conv2D)            (None, 256, 8, 40)        10280     \n",
      "_________________________________________________________________\n",
      "p_re_lu_2 (PReLU)            (None, 256, 8, 40)        40        \n",
      "_________________________________________________________________\n",
      "batch_normalization_2 (Batch (None, 256, 8, 40)        280       \n",
      "_________________________________________________________________\n",
      "full_gated_conv2d_2 (FullGat (None, 256, 8, 40)        28880     \n",
      "_________________________________________________________________\n",
      "dropout (Dropout)            (None, 256, 8, 40)        0         \n",
      "_________________________________________________________________\n",
      "conv2d_3 (Conv2D)            (None, 256, 8, 48)        17328     \n",
      "_________________________________________________________________\n",
      "p_re_lu_3 (PReLU)            (None, 256, 8, 48)        48        \n",
      "_________________________________________________________________\n",
      "batch_normalization_3 (Batch (None, 256, 8, 48)        336       \n",
      "_________________________________________________________________\n",
      "full_gated_conv2d_3 (FullGat (None, 256, 8, 48)        41568     \n",
      "_________________________________________________________________\n",
      "dropout_1 (Dropout)          (None, 256, 8, 48)        0         \n",
      "_________________________________________________________________\n",
      "conv2d_4 (Conv2D)            (None, 128, 2, 56)        21560     \n",
      "_________________________________________________________________\n",
      "p_re_lu_4 (PReLU)            (None, 128, 2, 56)        56        \n",
      "_________________________________________________________________\n",
      "batch_normalization_4 (Batch (None, 128, 2, 56)        392       \n",
      "_________________________________________________________________\n",
      "full_gated_conv2d_4 (FullGat (None, 128, 2, 56)        56560     \n",
      "_________________________________________________________________\n",
      "dropout_2 (Dropout)          (None, 128, 2, 56)        0         \n",
      "_________________________________________________________________\n",
      "conv2d_5 (Conv2D)            (None, 128, 2, 64)        32320     \n",
      "_________________________________________________________________\n",
      "p_re_lu_5 (PReLU)            (None, 128, 2, 64)        64        \n",
      "_________________________________________________________________\n",
      "batch_normalization_5 (Batch (None, 128, 2, 64)        448       \n",
      "_________________________________________________________________\n",
      "max_pooling2d (MaxPooling2D) (None, 128, 1, 64)        0         \n",
      "_________________________________________________________________\n",
      "reshape (Reshape)            (None, 128, 64)           0         \n",
      "_________________________________________________________________\n",
      "bidirectional (Bidirectional (None, 128, 128)          49920     \n",
      "_________________________________________________________________\n",
      "dense (Dense)                (None, 128, 128)          16512     \n",
      "_________________________________________________________________\n",
      "bidirectional_1 (Bidirection (None, 128, 128)          74496     \n",
      "_________________________________________________________________\n",
      "dense_1 (Dense)              (None, 128, 72)           9288      \n",
      "=================================================================\n",
      "Total params: 388,696\n",
      "Trainable params: 387,416\n",
      "Non-trainable params: 1,280\n",
      "_________________________________________________________________\n"
     ]
    }
   ]
  },
  {
   "cell_type": "code",
   "metadata": {
    "colab": {
     "base_uri": "https://localhost:8080/"
    },
    "id": "vPOTJuTN7czJ",
    "executionInfo": {
     "elapsed": 1384,
     "status": "ok",
     "timestamp": 1627355573651,
     "user": {
      "displayName": "Munir Nasir",
      "photoUrl": "https://lh3.googleusercontent.com/a-/AOh14Gjj-goum-26nMPPeGVAPC8mbfheSvoy_Y3sPz_g=s64",
      "userId": "17948532014209181939"
     },
     "user_tz": -180
    },
    "outputId": "2ce1d04f-73c4-4280-e788-ceb8376be772"
   },
   "source": [
    "callbacks"
   ],
   "execution_count": null,
   "outputs": [
    {
     "data": {
      "text/plain": [
       "[<tensorflow.python.keras.callbacks.CSVLogger at 0x7fef1ec1c250>,\n",
       " <tensorflow.python.keras.callbacks.TensorBoard at 0x7fef1ede8350>,\n",
       " <tensorflow.python.keras.callbacks.ModelCheckpoint at 0x7fef1ec48d90>,\n",
       " <tensorflow.python.keras.callbacks.EarlyStopping at 0x7fef1ec694d0>,\n",
       " <tensorflow.python.keras.callbacks.ReduceLROnPlateau at 0x7fef1efca350>]"
      ]
     },
     "execution_count": 12,
     "metadata": {
      "tags": []
     },
     "output_type": "execute_result"
    }
   ]
  },
  {
   "cell_type": "markdown",
   "metadata": {
    "id": "T1fnz0Eugqru"
   },
   "source": [
    "## 4 Training"
   ]
  },
  {
   "cell_type": "markdown",
   "metadata": {
    "id": "w1mLOcqYgsO-"
   },
   "source": [
    "The training process is similar to the *fit()* of the Keras. After training, the information (epochs and minimum loss) is save."
   ]
  },
  {
   "cell_type": "code",
   "metadata": {
    "colab": {
     "base_uri": "https://localhost:8080/"
    },
    "id": "2P6MSoxCISlD",
    "outputId": "96516572-2ff7-4433-91de-fb42ffc26ccd"
   },
   "source": [
    "# to calculate total and average time per epoch\n",
    "start_time = datetime.datetime.now()\n",
    "print(dtgen.steps['train'])\n",
    "h = model.fit(x=dtgen.next_train_batch(),\n",
    "              epochs=epochs,\n",
    "              steps_per_epoch=dtgen.steps['train'],\n",
    "              validation_data=dtgen.next_valid_batch(),\n",
    "              validation_steps=dtgen.steps['valid'],\n",
    "              callbacks=callbacks,\n",
    "              shuffle=True,\n",
    "              verbose=1)\n",
    "\n",
    "total_time = datetime.datetime.now() - start_time\n",
    "\n",
    "loss = h.history['loss']\n",
    "val_loss = h.history['val_loss']\n",
    "\n",
    "min_val_loss = min(val_loss)\n",
    "min_val_loss_i = val_loss.index(min_val_loss)\n",
    "\n",
    "time_epoch = (total_time / len(loss))\n",
    "total_item = (dtgen.size['train'] + dtgen.size['valid'])\n",
    "\n",
    "t_corpus = \"\\n\".join([\n",
    "    f\"Total train images:      {dtgen.size['train']}\",\n",
    "    f\"Total validation images: {dtgen.size['valid']}\",\n",
    "    f\"Batch:                   {dtgen.batch_size}\\n\",\n",
    "    f\"Total time:              {total_time}\",\n",
    "    f\"Time per epoch:          {time_epoch}\",\n",
    "    f\"Time per item:           {time_epoch / total_item}\\n\",\n",
    "    f\"Total epochs:            {len(loss)}\",\n",
    "    f\"Best epoch               {min_val_loss_i + 1}\\n\",\n",
    "    f\"Training loss:           {loss[min_val_loss_i]:.8f}\",\n",
    "    f\"Validation loss:         {min_val_loss:.8f}\"\n",
    "])\n",
    "\n",
    "with open(os.path.join(output_path, \"train.txt\"), \"w\") as lg:\n",
    "    lg.write(t_corpus)\n",
    "    print(t_corpus)"
   ],
   "execution_count": null,
   "outputs": [
    {
     "output_type": "stream",
     "name": "stdout",
     "text": [
      "591\n",
      "Epoch 1/350\n",
      "591/591 [==============================] - 1953s 3s/step - loss: 46.9861 - val_loss: 45.5957\n",
      "\n",
      "Epoch 00001: val_loss improved from inf to 45.59573, saving model to ../output/khatt/yazeed/checkpoint_weights_2.hdf5\n",
      "Epoch 2/350\n",
      "591/591 [==============================] - 1931s 3s/step - loss: 47.9790 - val_loss: 41.6533\n",
      "\n",
      "Epoch 00002: val_loss improved from 45.59573 to 41.65330, saving model to ../output/khatt/yazeed/checkpoint_weights_2.hdf5\n",
      "Epoch 3/350\n",
      "103/591 [====>.........................] - ETA: 26:34 - loss: 47.6920"
     ]
    }
   ]
  },
  {
   "cell_type": "code",
   "metadata": {
    "id": "qyauakdU-RST"
   },
   "source": [
    "%tensorboard --logdir logs"
   ],
   "execution_count": null,
   "outputs": []
  },
  {
   "cell_type": "markdown",
   "metadata": {
    "id": "13g7tDjWgtXV"
   },
   "source": [
    "## 5 Predict"
   ]
  },
  {
   "cell_type": "markdown",
   "metadata": {
    "id": "ddO26OT-g_QK"
   },
   "source": [
    "The predict process is similar to the *predict* of the Keras:"
   ]
  },
  {
   "cell_type": "code",
   "metadata": {
    "colab": {
     "base_uri": "https://localhost:8080/",
     "height": 1000
    },
    "id": "a9iHL6tmaL_j",
    "executionInfo": {
     "status": "ok",
     "timestamp": 1633348598475,
     "user_tz": -180,
     "elapsed": 233951,
     "user": {
      "displayName": "Munir Nasir",
      "photoUrl": "https://lh3.googleusercontent.com/a-/AOh14Gjj-goum-26nMPPeGVAPC8mbfheSvoy_Y3sPz_g=s64",
      "userId": "17948532014209181939"
     }
    },
    "outputId": "b1df6233-96c6-412f-9f94-74cc5376dae0"
   },
   "source": [
    "from data import preproc as pp\n",
    "from google.colab.patches import cv2_imshow\n",
    "\n",
    "start_time = datetime.datetime.now()\n",
    "\n",
    "# predict() function will return the predicts with the probabilities\n",
    "predicts, _ = model.predict(x=dtgen.next_test_batch(),\n",
    "                            steps=dtgen.steps['test'],\n",
    "                            ctc_decode=True,\n",
    "                            verbose=1)\n",
    "\n",
    "\n",
    "# decode to string\n",
    "predicts = [dtgen.tokenizer.decode(x[0]) for x in predicts]\n",
    "ground_truth = [x.decode() for x in dtgen.dataset['test']['gt']]\n",
    "\n",
    "total_time = datetime.datetime.now() - start_time\n",
    "\n",
    "# mount predict corpus file\n",
    "with open(os.path.join(output_path, \"predict.txt\"), \"w\") as lg:\n",
    "    for pd, gt in zip(predicts, ground_truth):\n",
    "        lg.write(f\"TE_L {gt}\\nTE_P {pd}\\n\")\n",
    "   \n",
    "for i, item in enumerate(dtgen.dataset['test']['dt'][:50]):\n",
    "    print(\"=\" * 1024, \"\\n\")\n",
    "    cv2_imshow(pp.adjust_to_see(item))\n",
    "    print(ground_truth[i])\n",
    "    print(predicts[i], \"\\n\")"
   ],
   "execution_count": 10,
   "outputs": [
    {
     "output_type": "stream",
     "name": "stdout",
     "text": [
      "Model Predict\n",
      "125/125 [==============================] - 88s 706ms/step\n",
      "CTC Decode\n",
      "  1/125 [..............................] - ETA: 1:27"
     ]
    },
    {
     "output_type": "stream",
     "name": "stderr",
     "text": [
      "/usr/local/lib/python3.7/dist-packages/numpy/core/_asarray.py:83: VisibleDeprecationWarning: Creating an ndarray from ragged nested sequences (which is a list-or-tuple of lists-or-tuples-or ndarrays with different lengths or shapes) is deprecated. If you meant to do this, you must specify 'dtype=object' when creating the ndarray\n",
      "  return array(a, dtype, copy=False, order=order)\n"
     ]
    },
    {
     "output_type": "stream",
     "name": "stdout",
     "text": [
      "125/125 [==============================] - 90s 721ms/step\n",
      "================================================================================================================================================================================================================================================================================================================================================================================================================================================================================================================================================================================================================================================================================================================================================================================================================================================================================================================================================================================================================================================================ \n",
      "\n"
     ]
    },
    {
     "output_type": "display_data",
     "data": {
      "image/png": "[encoded data removed]",
      "text/plain": [
       "<PIL.Image.Image image mode=L size=1024x64 at 0x7F24AD5213D0>"
      ]
     },
     "metadata": {}
    },
    {
     "output_type": "stream",
     "name": "stdout",
     "text": [
      "ذهب نوح مظفر ضرغام بصحبة رؤوف بن لؤي رايق ظافر عطعوط\n",
      "ذهب نوح مظفر ضرغام بصحبة رؤوف بن لؤي رايق ظافر عطعوط \n",
      "\n",
      "================================================================================================================================================================================================================================================================================================================================================================================================================================================================================================================================================================================================================================================================================================================================================================================================================================================================================================================================================================================================================================================================ \n",
      "\n"
     ]
    },
    {
     "output_type": "display_data",
     "data": {
      "image/png": "[encoded data removed]",
      "text/plain": [
       "<PIL.Image.Image image mode=L size=1024x64 at 0x7F24AD4A71D0>"
      ]
     },
     "metadata": {}
    },
    {
     "output_type": "stream",
     "name": "stdout",
     "text": [
      "وهلال خازن عفيف للحج.    بدأت قوافل الحجيج حاج إثر آخر\n",
      "وهلال خازن عف لحج . بدأت قوافل الحجيج حاج إثر آخر \n",
      "\n",
      "================================================================================================================================================================================================================================================================================================================================================================================================================================================================================================================================================================================================================================================================================================================================================================================================================================================================================================================================================================================================================================================================ \n",
      "\n"
     ]
    },
    {
     "output_type": "display_data",
     "data": {
      "image/png": "[encoded data removed]",
      "text/plain": [
       "<PIL.Image.Image image mode=L size=1024x64 at 0x7F24AD4A7610>"
      ]
     },
     "metadata": {}
    },
    {
     "output_type": "stream",
     "name": "stdout",
     "text": [
      "يلبي. عند وصولنا طفنا وسعينا مع شيخ. كان جاري في الخيمة يتكلم\n",
      "يلبي عند وصولنا طفنا وسعينا مع شيخ . كان جاري في الخيمة يتكلم \n",
      "\n",
      "================================================================================================================================================================================================================================================================================================================================================================================================================================================================================================================================================================================================================================================================================================================================================================================================================================================================================================================================================================================================================================================================ \n",
      "\n"
     ]
    },
    {
     "output_type": "display_data",
     "data": {
      "image/png": "[encoded data removed]",
      "text/plain": [
       "<PIL.Image.Image image mode=L size=1024x64 at 0x7F24AD4A7FD0>"
      ]
     },
     "metadata": {}
    },
    {
     "output_type": "stream",
     "name": "stdout",
     "text": [
      "وهو نائم  بكلمات لا أفهمها مثل انقض بغلس له الضابط لزمتك.   سألت\n",
      "وهو نائم بكلمات لا أفهمها مثل انقض بغلس له الضابط لزمتك . سألت \n",
      "\n",
      "================================================================================================================================================================================================================================================================================================================================================================================================================================================================================================================================================================================================================================================================================================================================================================================================================================================================================================================================================================================================================================================================ \n",
      "\n"
     ]
    },
    {
     "output_type": "display_data",
     "data": {
      "image/png": "[encoded data removed]",
      "text/plain": [
       "<PIL.Image.Image image mode=L size=1024x64 at 0x7F24AD4A7150>"
      ]
     },
     "metadata": {}
    },
    {
     "output_type": "stream",
     "name": "stdout",
     "text": [
      "راجح هل بلغ أصحابنا ظ ع ك  ث خ ض ب س ش ص غ ه أننا في\n",
      "راجح هل بلغ أصحابنا ظ ع ك ث خ ض ب س ش ص غ ه أنا في \n",
      "\n",
      "================================================================================================================================================================================================================================================================================================================================================================================================================================================================================================================================================================================================================================================================================================================================================================================================================================================================================================================================================================================================================================================================ \n",
      "\n"
     ]
    },
    {
     "output_type": "display_data",
     "data": {
      "image/png": "[encoded data removed]",
      "text/plain": [
       "<PIL.Image.Image image mode=L size=1024x64 at 0x7F24AD5213D0>"
      ]
     },
     "metadata": {}
    },
    {
     "output_type": "stream",
     "name": "stdout",
     "text": [
      "الحج  هل تعلم فائدة الكلمات التالية لهذا النص: مشمش دراق\n",
      "الحج . هل تعلم فائدة الكلمات التالية لهذا النص : مشمش دراق \n",
      "\n",
      "================================================================================================================================================================================================================================================================================================================================================================================================================================================================================================================================================================================================================================================================================================================================================================================================================================================================================================================================================================================================================================================================ \n",
      "\n"
     ]
    },
    {
     "output_type": "display_data",
     "data": {
      "image/png": "[encoded data removed]",
      "text/plain": [
       "<PIL.Image.Image image mode=L size=1024x64 at 0x7F24AD4A7D50>"
      ]
     },
     "metadata": {}
    },
    {
     "output_type": "stream",
     "name": "stdout",
     "text": [
      "غيظ ناء   بث  نسر .\n",
      "غيظ ناء بث نسر . \n",
      "\n",
      "================================================================================================================================================================================================================================================================================================================================================================================================================================================================================================================================================================================================================================================================================================================================================================================================================================================================================================================================================================================================================================================================ \n",
      "\n"
     ]
    },
    {
     "output_type": "display_data",
     "data": {
      "image/png": "[encoded data removed]",
      "text/plain": [
       "<PIL.Image.Image image mode=L size=1024x64 at 0x7F24AD529990>"
      ]
     },
     "metadata": {}
    },
    {
     "output_type": "stream",
     "name": "stdout",
     "text": [
      "ذهب نوح مظفر ضرغام بصحبة رؤوف بن لؤي رايق ظافر\n",
      "ذهب نوح مظفر ضرغام بصحبة رؤوف بن لؤي رايق ظافر \n",
      "\n",
      "================================================================================================================================================================================================================================================================================================================================================================================================================================================================================================================================================================================================================================================================================================================================================================================================================================================================================================================================================================================================================================================================ \n",
      "\n"
     ]
    },
    {
     "output_type": "display_data",
     "data": {
      "image/png": "[encoded data removed]",
      "text/plain": [
       "<PIL.Image.Image image mode=L size=1024x64 at 0x7F24AD546990>"
      ]
     },
     "metadata": {}
    },
    {
     "output_type": "stream",
     "name": "stdout",
     "text": [
      "عطعوط وهلال خازن عفيف للحج.    بدأت قوافل الحجيج حاج\n",
      "عطعوط وهلال خازن عفيف لحج . بدأت قوافل الحجيج حاج \n",
      "\n",
      "================================================================================================================================================================================================================================================================================================================================================================================================================================================================================================================================================================================================================================================================================================================================================================================================================================================================================================================================================================================================================================================================ \n",
      "\n"
     ]
    },
    {
     "output_type": "display_data",
     "data": {
      "image/png": "[encoded data removed]",
      "text/plain": [
       "<PIL.Image.Image image mode=L size=1024x64 at 0x7F24AD4A71D0>"
      ]
     },
     "metadata": {}
    },
    {
     "output_type": "stream",
     "name": "stdout",
     "text": [
      "إثر آخر يلي .عند وصولنا طفنا وسعينا مع شيخ. كان جاري\n",
      "إثر آخر يالي . عند وصولنا طفنا وسعينا مع شيخ . كان جاري \n",
      "\n",
      "================================================================================================================================================================================================================================================================================================================================================================================================================================================================================================================================================================================================================================================================================================================================================================================================================================================================================================================================================================================================================================================================ \n",
      "\n"
     ]
    },
    {
     "output_type": "display_data",
     "data": {
      "image/png": "[encoded data removed]",
      "text/plain": [
       "<PIL.Image.Image image mode=L size=1024x64 at 0x7F24AD546450>"
      ]
     },
     "metadata": {}
    },
    {
     "output_type": "stream",
     "name": "stdout",
     "text": [
      "في الخيمة يتكلم وهو نائم  بكلمات لأ أفهمها مثل انقض بغلس\n",
      "في الخيمة يتكلم وهو نائم بكلمات لا أفهمها مثل انقض بغلس \n",
      "\n",
      "================================================================================================================================================================================================================================================================================================================================================================================================================================================================================================================================================================================================================================================================================================================================================================================================================================================================================================================================================================================================================================================================ \n",
      "\n"
     ]
    },
    {
     "output_type": "display_data",
     "data": {
      "image/png": "[encoded data removed]",
      "text/plain": [
       "<PIL.Image.Image image mode=L size=1024x64 at 0x7F24AD529810>"
      ]
     },
     "metadata": {}
    },
    {
     "output_type": "stream",
     "name": "stdout",
     "text": [
      "له الضابط لزمتك.   سألت راجح هل بلغ أصحابنا ظ ع ك \n",
      "له الضابط لزمتك . سألت راجح هل بلغ أصحابنا ظ ع ك \n",
      "\n",
      "================================================================================================================================================================================================================================================================================================================================================================================================================================================================================================================================================================================================================================================================================================================================================================================================================================================================================================================================================================================================================================================================ \n",
      "\n"
     ]
    },
    {
     "output_type": "display_data",
     "data": {
      "image/png": "[encoded data removed]",
      "text/plain": [
       "<PIL.Image.Image image mode=L size=1024x64 at 0x7F24AD4A7D50>"
      ]
     },
     "metadata": {}
    },
    {
     "output_type": "stream",
     "name": "stdout",
     "text": [
      "ث خ ض ب س ش ص غ ه إننا في الحج.  هل تعلم فائدة الكلمات\n",
      "ث خ ض ب س ش ص غ ه أنا في الحج . هل تعلم فائدة الكلمات \n",
      "\n",
      "================================================================================================================================================================================================================================================================================================================================================================================================================================================================================================================================================================================================================================================================================================================================================================================================================================================================================================================================================================================================================================================================ \n",
      "\n"
     ]
    },
    {
     "output_type": "display_data",
     "data": {
      "image/png": "[encoded data removed]",
      "text/plain": [
       "<PIL.Image.Image image mode=L size=1024x64 at 0x7F24AD4A7E90>"
      ]
     },
     "metadata": {}
    },
    {
     "output_type": "stream",
     "name": "stdout",
     "text": [
      "التالية لهذا النص: مشمش دراق غيظ ناء   بث  نسر .\n",
      "الال ها الص : مش دراق غيظ ناء بث نسر . \n",
      "\n",
      "================================================================================================================================================================================================================================================================================================================================================================================================================================================================================================================================================================================================================================================================================================================================================================================================================================================================================================================================================================================================================================================================ \n",
      "\n"
     ]
    },
    {
     "output_type": "display_data",
     "data": {
      "image/png": "[encoded data removed]",
      "text/plain": [
       "<PIL.Image.Image image mode=L size=1024x64 at 0x7F24AD529F90>"
      ]
     },
     "metadata": {}
    },
    {
     "output_type": "stream",
     "name": "stdout",
     "text": [
      "ذهب نوح مظفر ضرغام بصحبة رؤوف بن لؤي رايق ظافر عطعوط وهلال\n",
      "ذهب نوح مظفر ضرغام بصحبة رؤوف بن لؤي رايق ظافر عطعوط وهلال \n",
      "\n",
      "================================================================================================================================================================================================================================================================================================================================================================================================================================================================================================================================================================================================================================================================================================================================================================================================================================================================================================================================================================================================================================================================ \n",
      "\n"
     ]
    },
    {
     "output_type": "display_data",
     "data": {
      "image/png": "[encoded data removed]",
      "text/plain": [
       "<PIL.Image.Image image mode=L size=1024x64 at 0x7F24AD546E90>"
      ]
     },
     "metadata": {}
    },
    {
     "output_type": "stream",
     "name": "stdout",
     "text": [
      "خازن عفيف للحج.    بدأت قوافل الحجيج حاج إثر آخر يلبي.عند وصولنا طفنا وسعينا\n",
      "خازن عفيف لحج . بدأت قوافل الحجيج حاج إثر آخر يلبي . عند وصولنا طفنا وسعينا \n",
      "\n",
      "================================================================================================================================================================================================================================================================================================================================================================================================================================================================================================================================================================================================================================================================================================================================================================================================================================================================================================================================================================================================================================================================ \n",
      "\n"
     ]
    },
    {
     "output_type": "display_data",
     "data": {
      "image/png": "[encoded data removed]",
      "text/plain": [
       "<PIL.Image.Image image mode=L size=1024x64 at 0x7F24AD5464D0>"
      ]
     },
     "metadata": {}
    },
    {
     "output_type": "stream",
     "name": "stdout",
     "text": [
      "مع شيخ. كان جاري  في الخيمة يتكلم وهو نائم  بكلمات لا أمهمها مثل انقض بفسلس له الظتابط\n",
      "مع شيخ . كان جاري في الخيمة يتكلم وهو نائم بكلمات لا أفهمها مثل انقض بغلس له الضابط \n",
      "\n",
      "================================================================================================================================================================================================================================================================================================================================================================================================================================================================================================================================================================================================================================================================================================================================================================================================================================================================================================================================================================================================================================================================ \n",
      "\n"
     ]
    },
    {
     "output_type": "display_data",
     "data": {
      "image/png": "[encoded data removed]",
      "text/plain": [
       "<PIL.Image.Image image mode=L size=1024x64 at 0x7F24AD529CD0>"
      ]
     },
     "metadata": {}
    },
    {
     "output_type": "stream",
     "name": "stdout",
     "text": [
      "لزمتك.   سألت راجح هل # بلغ أصحابنا ظ ع ك  ث خ ض ب س ش ص غ ه أننا\n",
      "لزمتك . سألت راجح هل ا # بلغ أصحابنا ظ ع ك ث خ ض ب س ش ص غ ه أنا \n",
      "\n",
      "================================================================================================================================================================================================================================================================================================================================================================================================================================================================================================================================================================================================================================================================================================================================================================================================================================================================================================================================================================================================================================================================ \n",
      "\n"
     ]
    },
    {
     "output_type": "display_data",
     "data": {
      "image/png": "[encoded data removed]",
      "text/plain": [
       "<PIL.Image.Image image mode=L size=1024x64 at 0x7F24AD546E90>"
      ]
     },
     "metadata": {}
    },
    {
     "output_type": "stream",
     "name": "stdout",
     "text": [
      "في الحج.  هل تعلم فائدة الكلمات التالية لهذا النص: مشمس دراق غيظ ناء   بث  نس .\n",
      "ال ا ا ة له النص مشدراق غيظ ناء بث نسر . \n",
      "\n",
      "================================================================================================================================================================================================================================================================================================================================================================================================================================================================================================================================================================================================================================================================================================================================================================================================================================================================================================================================================================================================================================================================ \n",
      "\n"
     ]
    },
    {
     "output_type": "display_data",
     "data": {
      "image/png": "[encoded data removed]",
      "text/plain": [
       "<PIL.Image.Image image mode=L size=1024x64 at 0x7F24AD529C90>"
      ]
     },
     "metadata": {}
    },
    {
     "output_type": "stream",
     "name": "stdout",
     "text": [
      "عند وصولنا طفنا وسعينا مع شيخ. كان جاري في الخيمة يتكلم وهو نائم  بكلمات\n",
      "عند وصولنا طفنا وسعينا مع شيخ . كان جاري في الخيمه يتكلم وهو نائم بكلمات \n",
      "\n",
      "================================================================================================================================================================================================================================================================================================================================================================================================================================================================================================================================================================================================================================================================================================================================================================================================================================================================================================================================================================================================================================================================ \n",
      "\n"
     ]
    },
    {
     "output_type": "display_data",
     "data": {
      "image/png": "[encoded data removed]",
      "text/plain": [
       "<PIL.Image.Image image mode=L size=1024x64 at 0x7F24AD546350>"
      ]
     },
     "metadata": {}
    },
    {
     "output_type": "stream",
     "name": "stdout",
     "text": [
      "لا أفهمها مثل انقض بغلس له الضابط لزمتك.   سألت راجح هل بلغ أصحابنا\n",
      "لا أفهمها مثل انقض بغلس له الضابط لزمتك . سألت راجح \n",
      "\n",
      "================================================================================================================================================================================================================================================================================================================================================================================================================================================================================================================================================================================================================================================================================================================================================================================================================================================================================================================================================================================================================================================================ \n",
      "\n"
     ]
    },
    {
     "output_type": "display_data",
     "data": {
      "image/png": "[encoded data removed]",
      "text/plain": [
       "<PIL.Image.Image image mode=L size=1024x64 at 0x7F24AD529550>"
      ]
     },
     "metadata": {}
    },
    {
     "output_type": "stream",
     "name": "stdout",
     "text": [
      "الكلمات التالية لهذا النص: مشمش دراق غيظ ناء   بث  نسر\n",
      "لهذا النص : مشدراق غيظ ناء بث نسر . \n",
      "\n",
      "================================================================================================================================================================================================================================================================================================================================================================================================================================================================================================================================================================================================================================================================================================================================================================================================================================================================================================================================================================================================================================================================ \n",
      "\n"
     ]
    },
    {
     "output_type": "display_data",
     "data": {
      "image/png": "[encoded data removed]",
      "text/plain": [
       "<PIL.Image.Image image mode=L size=1024x64 at 0x7F24AD546C90>"
      ]
     },
     "metadata": {}
    },
    {
     "output_type": "stream",
     "name": "stdout",
     "text": [
      "ذهب نوح مظفر ضرغام بصحبة رؤوف بن لؤي رايق ظافر عطعوط وهلال خازن عفيف للحج.  بدأت\n",
      "ذهب نوح مظفر ضرغام بصحبة رؤوف بن لؤي رايق ظافر عطعوط وهلال خازن عفيف لحج . بدأت \n",
      "\n",
      "================================================================================================================================================================================================================================================================================================================================================================================================================================================================================================================================================================================================================================================================================================================================================================================================================================================================================================================================================================================================================================================================ \n",
      "\n"
     ]
    },
    {
     "output_type": "display_data",
     "data": {
      "image/png": "[encoded data removed]",
      "text/plain": [
       "<PIL.Image.Image image mode=L size=1024x64 at 0x7F24AD546990>"
      ]
     },
     "metadata": {}
    },
    {
     "output_type": "stream",
     "name": "stdout",
     "text": [
      "قوافل الحجيج حاج إثر آخر يلبي.  عند وصولنا طفنا وسعينا مع شيخ. كان جاري في الخيمة\n",
      "قوافل الحجيج حاج إثر آخر يلبي . عند وصولنا طفنا وسعينا مع شيخ . كان جاري في الخيمة \n",
      "\n",
      "================================================================================================================================================================================================================================================================================================================================================================================================================================================================================================================================================================================================================================================================================================================================================================================================================================================================================================================================================================================================================================================================ \n",
      "\n"
     ]
    },
    {
     "output_type": "display_data",
     "data": {
      "image/png": "[encoded data removed]",
      "text/plain": [
       "<PIL.Image.Image image mode=L size=1024x64 at 0x7F24AD529490>"
      ]
     },
     "metadata": {}
    },
    {
     "output_type": "stream",
     "name": "stdout",
     "text": [
      "يتكلم وهو نائم  بكلمات لا أفهمها مثل انقض بغلس له الضابط لزمتك.   سألت راجح\n",
      "يتكلم وهو نائم بكلمات لا أفهمها مثل انقض بغلس له الضابط لزمتك . سألت راجح \n",
      "\n",
      "================================================================================================================================================================================================================================================================================================================================================================================================================================================================================================================================================================================================================================================================================================================================================================================================================================================================================================================================================================================================================================================================ \n",
      "\n"
     ]
    },
    {
     "output_type": "display_data",
     "data": {
      "image/png": "[encoded data removed]",
      "text/plain": [
       "<PIL.Image.Image image mode=L size=1024x64 at 0x7F24AD780550>"
      ]
     },
     "metadata": {}
    },
    {
     "output_type": "stream",
     "name": "stdout",
     "text": [
      "هل بلغ أصحابنا ظ ع ك  ث خ ض # ب س ش ص غ ه أننا في الحج.  هل تعلم\n",
      "هل بلغ أصحابنا ظ ع ك ث خ ض # ب س ش ص غ ه أنا في الحج . هل تعلم \n",
      "\n",
      "================================================================================================================================================================================================================================================================================================================================================================================================================================================================================================================================================================================================================================================================================================================================================================================================================================================================================================================================================================================================================================================================ \n",
      "\n"
     ]
    },
    {
     "output_type": "display_data",
     "data": {
      "image/png": "[encoded data removed]",
      "text/plain": [
       "<PIL.Image.Image image mode=L size=1024x64 at 0x7F24AD529F90>"
      ]
     },
     "metadata": {}
    },
    {
     "output_type": "stream",
     "name": "stdout",
     "text": [
      "فائدة الكلمات التالية لهذا النص: مشمش دراق غيظ ناء   بث  نسر.\n",
      "ا اة لهذ النص : مش دراق غيظ ناء بث نسر . \n",
      "\n",
      "================================================================================================================================================================================================================================================================================================================================================================================================================================================================================================================================================================================================================================================================================================================================================================================================================================================================================================================================================================================================================================================================ \n",
      "\n"
     ]
    },
    {
     "output_type": "display_data",
     "data": {
      "image/png": "[encoded data removed]",
      "text/plain": [
       "<PIL.Image.Image image mode=L size=1024x64 at 0x7F24AD529F90>"
      ]
     },
     "metadata": {}
    },
    {
     "output_type": "stream",
     "name": "stdout",
     "text": [
      "ذهب نوح مظفر ضرغام بصح بة رؤوف بن لؤي رايق ظافر عطعوط وهلال خازن عفيف للحج.\n",
      "ذهب نوح مظفر ضرغام بصح بة رؤوف بن لؤي رايق ظافر عطعوط وهلال خازن عفيف لحج . \n",
      "\n",
      "================================================================================================================================================================================================================================================================================================================================================================================================================================================================================================================================================================================================================================================================================================================================================================================================================================================================================================================================================================================================================================================================ \n",
      "\n"
     ]
    },
    {
     "output_type": "display_data",
     "data": {
      "image/png": "[encoded data removed]",
      "text/plain": [
       "<PIL.Image.Image image mode=L size=1024x64 at 0x7F24AD780A90>"
      ]
     },
     "metadata": {}
    },
    {
     "output_type": "stream",
     "name": "stdout",
     "text": [
      "بدأت قوافل الحجيج حاج إثر آخر يلبي.  عند وصولنا طفنا وسعينا مع شيخ. كان جاري في الخيمة\n",
      "بدأت قوافل الحجيج حاج إثر آخر يلبي . عند وصولنا طفنا وسعينا مع شيخ . كان جاري ف الخيمة \n",
      "\n",
      "================================================================================================================================================================================================================================================================================================================================================================================================================================================================================================================================================================================================================================================================================================================================================================================================================================================================================================================================================================================================================================================================ \n",
      "\n"
     ]
    },
    {
     "output_type": "display_data",
     "data": {
      "image/png": "[encoded data removed]",
      "text/plain": [
       "<PIL.Image.Image image mode=L size=1024x64 at 0x7F24AD529550>"
      ]
     },
     "metadata": {}
    },
    {
     "output_type": "stream",
     "name": "stdout",
     "text": [
      "يتكلم وهو نائم  بكلمات لا أفهمها مثل انقض بغلس له الضابط لزمتك.   سألت راجح هل بلغ\n",
      "يتكلم وهو نائم بكلمات لا أفهمها مثل انقض بغلس له الضابط لزمتك . سألت راجح هل بلغ \n",
      "\n",
      "================================================================================================================================================================================================================================================================================================================================================================================================================================================================================================================================================================================================================================================================================================================================================================================================================================================================================================================================================================================================================================================================ \n",
      "\n"
     ]
    },
    {
     "output_type": "display_data",
     "data": {
      "image/png": "[encoded data removed]",
      "text/plain": [
       "<PIL.Image.Image image mode=L size=1024x64 at 0x7F24AD529CD0>"
      ]
     },
     "metadata": {}
    },
    {
     "output_type": "stream",
     "name": "stdout",
     "text": [
      "أصحابنا ظ ع ك  ث خ ض ب س ش ص غ ه أننا في الحج.  هل تعلم فائدة الكلمات\n",
      "أصحابنا ظ ع ك ث خ ض ب س ش ص غ ه أنا في الحج . هل تعلم فائدة الكلمات \n",
      "\n",
      "================================================================================================================================================================================================================================================================================================================================================================================================================================================================================================================================================================================================================================================================================================================================================================================================================================================================================================================================================================================================================================================================ \n",
      "\n"
     ]
    },
    {
     "output_type": "display_data",
     "data": {
      "image/png": "[encoded data removed]",
      "text/plain": [
       "<PIL.Image.Image image mode=L size=1024x64 at 0x7F24AD529CD0>"
      ]
     },
     "metadata": {}
    },
    {
     "output_type": "stream",
     "name": "stdout",
     "text": [
      "التالية لهذا النص: مشمش دراق غيظ ناء   بث  نسر.\n",
      "العال له النص : مشم دراق غيظ ناء بث نس . \n",
      "\n",
      "================================================================================================================================================================================================================================================================================================================================================================================================================================================================================================================================================================================================================================================================================================================================================================================================================================================================================================================================================================================================================================================================ \n",
      "\n"
     ]
    },
    {
     "output_type": "display_data",
     "data": {
      "image/png": "[encoded data removed]",
      "text/plain": [
       "<PIL.Image.Image image mode=L size=1024x64 at 0x7F24AD5219D0>"
      ]
     },
     "metadata": {}
    },
    {
     "output_type": "stream",
     "name": "stdout",
     "text": [
      "ذهب نوح مظفر ضرغام بصحبة رؤوف بن لؤي رايق ظافر عطعوط وهلال\n",
      "ذهب نوح مظفر ضرغام بصحبة رؤوف بن لؤي رايق ظافر عطعوط وهلال \n",
      "\n",
      "================================================================================================================================================================================================================================================================================================================================================================================================================================================================================================================================================================================================================================================================================================================================================================================================================================================================================================================================================================================================================================================================ \n",
      "\n"
     ]
    },
    {
     "output_type": "display_data",
     "data": {
      "image/png": "[encoded data removed]",
      "text/plain": [
       "<PIL.Image.Image image mode=L size=1024x64 at 0x7F24AD5213D0>"
      ]
     },
     "metadata": {}
    },
    {
     "output_type": "stream",
     "name": "stdout",
     "text": [
      "خازن عفيف للحج.  بدأت قوافل الحجيج حاج إثر آخر يلبي.  عند وصولنا\n",
      "خازن عفيف لحج . بدأت قوافل الحجيج حاج إثر آخر يلبي . عند وصولنا \n",
      "\n",
      "================================================================================================================================================================================================================================================================================================================================================================================================================================================================================================================================================================================================================================================================================================================================================================================================================================================================================================================================================================================================================================================================ \n",
      "\n"
     ]
    },
    {
     "output_type": "display_data",
     "data": {
      "image/png": "[encoded data removed]",
      "text/plain": [
       "<PIL.Image.Image image mode=L size=1024x64 at 0x7F24AD4A7E90>"
      ]
     },
     "metadata": {}
    },
    {
     "output_type": "stream",
     "name": "stdout",
     "text": [
      "وسعينا مع شيخ . كان جاري في الخيمة يتكلم وهو نائم  بكلمات لا أفهمها\n",
      "وسعينا مع شيخ . كان جاري في الخيمة يتكلم وهو نائم بكلمات لا أفهمها \n",
      "\n",
      "================================================================================================================================================================================================================================================================================================================================================================================================================================================================================================================================================================================================================================================================================================================================================================================================================================================================================================================================================================================================================================================================ \n",
      "\n"
     ]
    },
    {
     "output_type": "display_data",
     "data": {
      "image/png": "[encoded data removed]",
      "text/plain": [
       "<PIL.Image.Image image mode=L size=1024x64 at 0x7F24AD4A7990>"
      ]
     },
     "metadata": {}
    },
    {
     "output_type": "stream",
     "name": "stdout",
     "text": [
      "مثل انقض بغلس له الضابط لزمتك.   سألت راجح هل بلغ أصحابنا ظ ع ك \n",
      "مثل انقض بغلس له الضابط لزمتك . سألت راجح هل بلغ أصحابنا ظ ع ك \n",
      "\n",
      "================================================================================================================================================================================================================================================================================================================================================================================================================================================================================================================================================================================================================================================================================================================================================================================================================================================================================================================================================================================================================================================================ \n",
      "\n"
     ]
    },
    {
     "output_type": "display_data",
     "data": {
      "image/png": "[encoded data removed]",
      "text/plain": [
       "<PIL.Image.Image image mode=L size=1024x64 at 0x7F24AD780250>"
      ]
     },
     "metadata": {}
    },
    {
     "output_type": "stream",
     "name": "stdout",
     "text": [
      "ذهب نوح مظفر ضرغام بصحبة رؤوف بن لؤي رايق ظافر عطعوط وهلال خازن عفيف للحج.  بدأت\n",
      "ذهب نوح مظفر ضرغم بصبة رؤف ب لؤي راق ظافر عطعوط وهلال خازن عفيف لحج . بدأت \n",
      "\n",
      "================================================================================================================================================================================================================================================================================================================================================================================================================================================================================================================================================================================================================================================================================================================================================================================================================================================================================================================================================================================================================================================================ \n",
      "\n"
     ]
    },
    {
     "output_type": "display_data",
     "data": {
      "image/png": "[encoded data removed]",
      "text/plain": [
       "<PIL.Image.Image image mode=L size=1024x64 at 0x7F24AD5464D0>"
      ]
     },
     "metadata": {}
    },
    {
     "output_type": "stream",
     "name": "stdout",
     "text": [
      "قوافل الحجيج حاج # إثر آخر يلبي.  عند وصولنا طفنا وسعينا مع شيخ. كان جاري\n",
      "قوافل الحجيج حاج # إثر آخر يلبي . عند وصولنا طفنا وسعينا مع شيخ . كان جاري \n",
      "\n",
      "================================================================================================================================================================================================================================================================================================================================================================================================================================================================================================================================================================================================================================================================================================================================================================================================================================================================================================================================================================================================================================================================ \n",
      "\n"
     ]
    },
    {
     "output_type": "display_data",
     "data": {
      "image/png": "[encoded data removed]",
      "text/plain": [
       "<PIL.Image.Image image mode=L size=1024x64 at 0x7F24AD529490>"
      ]
     },
     "metadata": {}
    },
    {
     "output_type": "stream",
     "name": "stdout",
     "text": [
      "في الخيمة يتكلم وهو نائم  بكلمات لا أفهمها مثل انقض بغلس له # الضابط لزمتك.\n",
      "في الخيمة يتكلم وهو نائم بكلمات لا أفهمها مثل انقض بغلس له له الضابط لزمتك . \n",
      "\n",
      "================================================================================================================================================================================================================================================================================================================================================================================================================================================================================================================================================================================================================================================================================================================================================================================================================================================================================================================================================================================================================================================================ \n",
      "\n"
     ]
    },
    {
     "output_type": "display_data",
     "data": {
      "image/png": "[encoded data removed]",
      "text/plain": [
       "<PIL.Image.Image image mode=L size=1024x64 at 0x7F24AD4A7C10>"
      ]
     },
     "metadata": {}
    },
    {
     "output_type": "stream",
     "name": "stdout",
     "text": [
      "سألت راجح هل بلغ أصحابنا ظ ع ك  ث خ ض ب س ش ص غ ه أننا في الحج.\n",
      "سألت راجح هل بلغ أصحابنا ظ ع ك ث خ ض ب س ش ص غ ه أنا في الحج . \n",
      "\n",
      "================================================================================================================================================================================================================================================================================================================================================================================================================================================================================================================================================================================================================================================================================================================================================================================================================================================================================================================================================================================================================================================================ \n",
      "\n"
     ]
    },
    {
     "output_type": "display_data",
     "data": {
      "image/png": "[encoded data removed]",
      "text/plain": [
       "<PIL.Image.Image image mode=L size=1024x64 at 0x7F24AD780810>"
      ]
     },
     "metadata": {}
    },
    {
     "output_type": "stream",
     "name": "stdout",
     "text": [
      "هل تعلم فائدة الكلمات التالية لهذا النص: مشمش  دراق  غيظ  ناء\n",
      "هل تعلم فائدة الكلمات التالية لهذا النص : مشمش دراق غيظ ناء \n",
      "\n",
      "================================================================================================================================================================================================================================================================================================================================================================================================================================================================================================================================================================================================================================================================================================================================================================================================================================================================================================================================================================================================================================================================ \n",
      "\n"
     ]
    },
    {
     "output_type": "display_data",
     "data": {
      "image/png": "[encoded data removed]",
      "text/plain": [
       "<PIL.Image.Image image mode=L size=1024x64 at 0x7F24AD529810>"
      ]
     },
     "metadata": {}
    },
    {
     "output_type": "stream",
     "name": "stdout",
     "text": [
      "بث  نسر .\n",
      "بن لسر . \n",
      "\n",
      "================================================================================================================================================================================================================================================================================================================================================================================================================================================================================================================================================================================================================================================================================================================================================================================================================================================================================================================================================================================================================================================================ \n",
      "\n"
     ]
    },
    {
     "output_type": "display_data",
     "data": {
      "image/png": "[encoded data removed]",
      "text/plain": [
       "<PIL.Image.Image image mode=L size=1024x64 at 0x7F24AD7806D0>"
      ]
     },
     "metadata": {}
    },
    {
     "output_type": "stream",
     "name": "stdout",
     "text": [
      "ذهب نوح مظفر ضرغام بصحبة رؤوف بن لؤي رايق ظافر عطعوط وهلال خازن\n",
      "ذهب نوح مظفر ضرغام بصحبة رؤوف بن لؤي رايق ظافر عطعوط وهلال خازن \n",
      "\n",
      "================================================================================================================================================================================================================================================================================================================================================================================================================================================================================================================================================================================================================================================================================================================================================================================================================================================================================================================================================================================================================================================================ \n",
      "\n"
     ]
    },
    {
     "output_type": "display_data",
     "data": {
      "image/png": "[encoded data removed]",
      "text/plain": [
       "<PIL.Image.Image image mode=L size=1024x64 at 0x7F24AD546E90>"
      ]
     },
     "metadata": {}
    },
    {
     "output_type": "stream",
     "name": "stdout",
     "text": [
      "عفيف للحج .  بدأت قوافل الحجيج حاج إثر آخر يلبي .  عند وصولنا طفنا وسعينا\n",
      "عفيف لحج . بدأت قوافل الحجيج حاج إثر آخر يلبي . عند وصولنا طفنا وسعينا \n",
      "\n",
      "================================================================================================================================================================================================================================================================================================================================================================================================================================================================================================================================================================================================================================================================================================================================================================================================================================================================================================================================================================================================================================================================ \n",
      "\n"
     ]
    },
    {
     "output_type": "display_data",
     "data": {
      "image/png": "[encoded data removed]",
      "text/plain": [
       "<PIL.Image.Image image mode=L size=1024x64 at 0x7F24AD7806D0>"
      ]
     },
     "metadata": {}
    },
    {
     "output_type": "stream",
     "name": "stdout",
     "text": [
      "مع شيخ. كان جاري في الخيمة يتكلم وهو نائم  بكلمات لا أفهمها مثل\n",
      "مع شيخ . كان جاري في الخيمة يتكلم وهو نائم بكلمات لا أفهمها مثل \n",
      "\n",
      "================================================================================================================================================================================================================================================================================================================================================================================================================================================================================================================================================================================================================================================================================================================================================================================================================================================================================================================================================================================================================================================================ \n",
      "\n"
     ]
    },
    {
     "output_type": "display_data",
     "data": {
      "image/png": "[encoded data removed]",
      "text/plain": [
       "<PIL.Image.Image image mode=L size=1024x64 at 0x7F24AD529810>"
      ]
     },
     "metadata": {}
    },
    {
     "output_type": "stream",
     "name": "stdout",
     "text": [
      "انقض بغلس له الضابط لزمتك.   سألت راجح هل بلغ أصحابنا ظ ع ك \n",
      "انقض بغلس له الضابط لزمتك . سألت راجح هل بلغ أصحابنا ظ ع ك \n",
      "\n",
      "================================================================================================================================================================================================================================================================================================================================================================================================================================================================================================================================================================================================================================================================================================================================================================================================================================================================================================================================================================================================================================================================ \n",
      "\n"
     ]
    },
    {
     "output_type": "display_data",
     "data": {
      "image/png": "[encoded data removed]",
      "text/plain": [
       "<PIL.Image.Image image mode=L size=1024x64 at 0x7F24AD5464D0>"
      ]
     },
     "metadata": {}
    },
    {
     "output_type": "stream",
     "name": "stdout",
     "text": [
      "ث خ ض ب س ش ص غ ه أننا في الحج.  هل تعلم فائدة الكلمات\n",
      "ث خ ض ب س ش ص غ ه أنا في الحج . هل تعلم فائدة الكلمات \n",
      "\n",
      "================================================================================================================================================================================================================================================================================================================================================================================================================================================================================================================================================================================================================================================================================================================================================================================================================================================================================================================================================================================================================================================================ \n",
      "\n"
     ]
    },
    {
     "output_type": "display_data",
     "data": {
      "image/png": "[encoded data removed]",
      "text/plain": [
       "<PIL.Image.Image image mode=L size=1024x64 at 0x7F24AD7806D0>"
      ]
     },
     "metadata": {}
    },
    {
     "output_type": "stream",
     "name": "stdout",
     "text": [
      "التالية لهذا النص: مشمش دراق غيظ ناء   يث  نسر.\n",
      "ان مش دراق غيظ ناء بث نسر . \n",
      "\n",
      "================================================================================================================================================================================================================================================================================================================================================================================================================================================================================================================================================================================================================================================================================================================================================================================================================================================================================================================================================================================================================================================================ \n",
      "\n"
     ]
    },
    {
     "output_type": "display_data",
     "data": {
      "image/png": "[encoded data removed]",
      "text/plain": [
       "<PIL.Image.Image image mode=L size=1024x64 at 0x7F24AD529710>"
      ]
     },
     "metadata": {}
    },
    {
     "output_type": "stream",
     "name": "stdout",
     "text": [
      "ذهب نوح مظفر ضرغام بصحبه رؤوف بن لؤى رايق ظافر\n",
      "ذهب نوح مظفر ضرغام بصحبه رؤوف بن لؤي رايق ظافر \n",
      "\n",
      "================================================================================================================================================================================================================================================================================================================================================================================================================================================================================================================================================================================================================================================================================================================================================================================================================================================================================================================================================================================================================================================================ \n",
      "\n"
     ]
    },
    {
     "output_type": "display_data",
     "data": {
      "image/png": "[encoded data removed]",
      "text/plain": [
       "<PIL.Image.Image image mode=L size=1024x64 at 0x7F24AD546D50>"
      ]
     },
     "metadata": {}
    },
    {
     "output_type": "stream",
     "name": "stdout",
     "text": [
      "عطعوط وهلال خازن عفيف للحج .  بدأت قوافل الحجيج جاج إثر\n",
      "عطوط وهلال خازن عفيف لحج . بدأت قوفل الحجيج جاج إثر \n",
      "\n"
     ]
    }
   ]
  },
  {
   "cell_type": "code",
   "metadata": {
    "id": "vGR7k-voMcHW"
   },
   "source": [
    ""
   ],
   "execution_count": null,
   "outputs": []
  },
  {
   "cell_type": "code",
   "metadata": {
    "id": "jJs1R6UuLS4C"
   },
   "source": [
    ""
   ],
   "execution_count": null,
   "outputs": []
  },
  {
   "cell_type": "code",
   "metadata": {
    "id": "GD_-zdjeA_rC"
   },
   "source": [
    ""
   ],
   "execution_count": null,
   "outputs": []
  },
  {
   "cell_type": "code",
   "metadata": {
    "id": "98GwqjhcBQyd"
   },
   "source": [
    ""
   ],
   "execution_count": null,
   "outputs": []
  },
  {
   "cell_type": "markdown",
   "metadata": {
    "id": "9JcAs3Q3WNJ-"
   },
   "source": [
    "## 6 Evaluate"
   ]
  },
  {
   "cell_type": "markdown",
   "metadata": {
    "id": "8LuZBRepWbom"
   },
   "source": [
    "Evaluation process is more manual process. Here we have the `ocr_metrics`, but feel free to implement other metrics instead. In the function, we have three parameters: \n",
    "\n",
    "* predicts\n",
    "* ground_truth\n",
    "* norm_accentuation (calculation with/without accentuation)\n",
    "* norm_punctuation (calculation with/without punctuation marks)"
   ]
  },
  {
   "cell_type": "code",
   "metadata": {
    "colab": {
     "base_uri": "https://localhost:8080/"
    },
    "id": "0gCwEYdKWOPK",
    "executionInfo": {
     "status": "ok",
     "timestamp": 1633349569189,
     "user_tz": -180,
     "elapsed": 301,
     "user": {
      "displayName": "Munir Nasir",
      "photoUrl": "https://lh3.googleusercontent.com/a-/AOh14Gjj-goum-26nMPPeGVAPC8mbfheSvoy_Y3sPz_g=s64",
      "userId": "17948532014209181939"
     }
    },
    "outputId": "10c7d441-2345-4c09-b455-4b8d5810333d"
   },
   "source": [
    "from data import evaluation\n",
    "\n",
    "evaluate = evaluation.ocr_metrics(predicts, ground_truth)\n",
    "\n",
    "e_corpus = \"\\n\".join([\n",
    "    f\"Total test images:    {dtgen.size['test']}\",\n",
    "    f\"Total time:           {total_time}\",\n",
    "    f\"Time per item:        {total_time / dtgen.size['test']}\\n\",\n",
    "    f\"Metrics:\",\n",
    "    f\"Character Error Rate: {evaluate[0]:.8f}\",\n",
    "    f\"Word Error Rate:      {evaluate[1]:.8f}\",\n",
    "    f\"Sequence Error Rate:  {evaluate[2]:.8f}\"\n",
    "])\n",
    "\n",
    "with open(os.path.join(output_path, \"evaluate.txt\"), \"w\") as lg:\n",
    "    lg.write(e_corpus)\n",
    "    print(e_corpus)"
   ],
   "execution_count": 11,
   "outputs": [
    {
     "output_type": "stream",
     "name": "stdout",
     "text": [
      "Total test images:    1995\n",
      "Total time:           0:03:52.146222\n",
      "Time per item:        0:00:00.116364\n",
      "\n",
      "Metrics:\n",
      "Character Error Rate: 0.18584907\n",
      "Word Error Rate:      0.42895647\n",
      "Sequence Error Rate:  0.94235589\n"
     ]
    }
   ]
  },
  {
   "cell_type": "code",
   "metadata": {
    "id": "Roz80mZnH3RS"
   },
   "source": [
    ""
   ],
   "execution_count": null,
   "outputs": []
  }
 ]
}